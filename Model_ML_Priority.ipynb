{
  "cells": [
    {
      "cell_type": "markdown",
      "metadata": {
        "id": "3luK0ZAqz3iP"
      },
      "source": [
        "###Install TF-DF & Import Library"
      ]
    },
    {
      "cell_type": "code",
      "execution_count": null,
      "metadata": {
        "colab": {
          "base_uri": "https://localhost:8080/"
        },
        "id": "sFpQMhWW5-bC",
        "outputId": "3accef09-aa8b-47a0-9766-4728dd9158c5"
      },
      "outputs": [
        {
          "output_type": "stream",
          "name": "stdout",
          "text": [
            "Collecting tensorflow_decision_forests\n",
            "  Downloading tensorflow_decision_forests-1.8.1-cp310-cp310-manylinux_2_17_x86_64.manylinux2014_x86_64.whl (15.3 MB)\n",
            "\u001b[2K     \u001b[90m━━━━━━━━━━━━━━━━━━━━━━━━━━━━━━━━━━━━━━━━\u001b[0m \u001b[32m15.3/15.3 MB\u001b[0m \u001b[31m2.6 MB/s\u001b[0m eta \u001b[36m0:00:00\u001b[0m\n",
            "\u001b[?25hRequirement already satisfied: numpy in /usr/local/lib/python3.10/dist-packages (from tensorflow_decision_forests) (1.23.5)\n",
            "Requirement already satisfied: pandas in /usr/local/lib/python3.10/dist-packages (from tensorflow_decision_forests) (1.5.3)\n",
            "Requirement already satisfied: tensorflow~=2.15.0 in /usr/local/lib/python3.10/dist-packages (from tensorflow_decision_forests) (2.15.0)\n",
            "Requirement already satisfied: six in /usr/local/lib/python3.10/dist-packages (from tensorflow_decision_forests) (1.16.0)\n",
            "Requirement already satisfied: absl-py in /usr/local/lib/python3.10/dist-packages (from tensorflow_decision_forests) (1.4.0)\n",
            "Requirement already satisfied: wheel in /usr/local/lib/python3.10/dist-packages (from tensorflow_decision_forests) (0.42.0)\n",
            "Collecting wurlitzer (from tensorflow_decision_forests)\n",
            "  Downloading wurlitzer-3.0.3-py3-none-any.whl (7.3 kB)\n",
            "Requirement already satisfied: astunparse>=1.6.0 in /usr/local/lib/python3.10/dist-packages (from tensorflow~=2.15.0->tensorflow_decision_forests) (1.6.3)\n",
            "Requirement already satisfied: flatbuffers>=23.5.26 in /usr/local/lib/python3.10/dist-packages (from tensorflow~=2.15.0->tensorflow_decision_forests) (23.5.26)\n",
            "Requirement already satisfied: gast!=0.5.0,!=0.5.1,!=0.5.2,>=0.2.1 in /usr/local/lib/python3.10/dist-packages (from tensorflow~=2.15.0->tensorflow_decision_forests) (0.5.4)\n",
            "Requirement already satisfied: google-pasta>=0.1.1 in /usr/local/lib/python3.10/dist-packages (from tensorflow~=2.15.0->tensorflow_decision_forests) (0.2.0)\n",
            "Requirement already satisfied: h5py>=2.9.0 in /usr/local/lib/python3.10/dist-packages (from tensorflow~=2.15.0->tensorflow_decision_forests) (3.9.0)\n",
            "Requirement already satisfied: libclang>=13.0.0 in /usr/local/lib/python3.10/dist-packages (from tensorflow~=2.15.0->tensorflow_decision_forests) (16.0.6)\n",
            "Requirement already satisfied: ml-dtypes~=0.2.0 in /usr/local/lib/python3.10/dist-packages (from tensorflow~=2.15.0->tensorflow_decision_forests) (0.2.0)\n",
            "Requirement already satisfied: opt-einsum>=2.3.2 in /usr/local/lib/python3.10/dist-packages (from tensorflow~=2.15.0->tensorflow_decision_forests) (3.3.0)\n",
            "Requirement already satisfied: packaging in /usr/local/lib/python3.10/dist-packages (from tensorflow~=2.15.0->tensorflow_decision_forests) (23.2)\n",
            "Requirement already satisfied: protobuf!=4.21.0,!=4.21.1,!=4.21.2,!=4.21.3,!=4.21.4,!=4.21.5,<5.0.0dev,>=3.20.3 in /usr/local/lib/python3.10/dist-packages (from tensorflow~=2.15.0->tensorflow_decision_forests) (3.20.3)\n",
            "Requirement already satisfied: setuptools in /usr/local/lib/python3.10/dist-packages (from tensorflow~=2.15.0->tensorflow_decision_forests) (67.7.2)\n",
            "Requirement already satisfied: termcolor>=1.1.0 in /usr/local/lib/python3.10/dist-packages (from tensorflow~=2.15.0->tensorflow_decision_forests) (2.4.0)\n",
            "Requirement already satisfied: typing-extensions>=3.6.6 in /usr/local/lib/python3.10/dist-packages (from tensorflow~=2.15.0->tensorflow_decision_forests) (4.5.0)\n",
            "Requirement already satisfied: wrapt<1.15,>=1.11.0 in /usr/local/lib/python3.10/dist-packages (from tensorflow~=2.15.0->tensorflow_decision_forests) (1.14.1)\n",
            "Requirement already satisfied: tensorflow-io-gcs-filesystem>=0.23.1 in /usr/local/lib/python3.10/dist-packages (from tensorflow~=2.15.0->tensorflow_decision_forests) (0.34.0)\n",
            "Requirement already satisfied: grpcio<2.0,>=1.24.3 in /usr/local/lib/python3.10/dist-packages (from tensorflow~=2.15.0->tensorflow_decision_forests) (1.60.0)\n",
            "Requirement already satisfied: tensorboard<2.16,>=2.15 in /usr/local/lib/python3.10/dist-packages (from tensorflow~=2.15.0->tensorflow_decision_forests) (2.15.1)\n",
            "Requirement already satisfied: tensorflow-estimator<2.16,>=2.15.0 in /usr/local/lib/python3.10/dist-packages (from tensorflow~=2.15.0->tensorflow_decision_forests) (2.15.0)\n",
            "Requirement already satisfied: keras<2.16,>=2.15.0 in /usr/local/lib/python3.10/dist-packages (from tensorflow~=2.15.0->tensorflow_decision_forests) (2.15.0)\n",
            "Requirement already satisfied: python-dateutil>=2.8.1 in /usr/local/lib/python3.10/dist-packages (from pandas->tensorflow_decision_forests) (2.8.2)\n",
            "Requirement already satisfied: pytz>=2020.1 in /usr/local/lib/python3.10/dist-packages (from pandas->tensorflow_decision_forests) (2023.3.post1)\n",
            "Requirement already satisfied: google-auth<3,>=1.6.3 in /usr/local/lib/python3.10/dist-packages (from tensorboard<2.16,>=2.15->tensorflow~=2.15.0->tensorflow_decision_forests) (2.17.3)\n",
            "Requirement already satisfied: google-auth-oauthlib<2,>=0.5 in /usr/local/lib/python3.10/dist-packages (from tensorboard<2.16,>=2.15->tensorflow~=2.15.0->tensorflow_decision_forests) (1.2.0)\n",
            "Requirement already satisfied: markdown>=2.6.8 in /usr/local/lib/python3.10/dist-packages (from tensorboard<2.16,>=2.15->tensorflow~=2.15.0->tensorflow_decision_forests) (3.5.1)\n",
            "Requirement already satisfied: requests<3,>=2.21.0 in /usr/local/lib/python3.10/dist-packages (from tensorboard<2.16,>=2.15->tensorflow~=2.15.0->tensorflow_decision_forests) (2.31.0)\n",
            "Requirement already satisfied: tensorboard-data-server<0.8.0,>=0.7.0 in /usr/local/lib/python3.10/dist-packages (from tensorboard<2.16,>=2.15->tensorflow~=2.15.0->tensorflow_decision_forests) (0.7.2)\n",
            "Requirement already satisfied: werkzeug>=1.0.1 in /usr/local/lib/python3.10/dist-packages (from tensorboard<2.16,>=2.15->tensorflow~=2.15.0->tensorflow_decision_forests) (3.0.1)\n",
            "Requirement already satisfied: cachetools<6.0,>=2.0.0 in /usr/local/lib/python3.10/dist-packages (from google-auth<3,>=1.6.3->tensorboard<2.16,>=2.15->tensorflow~=2.15.0->tensorflow_decision_forests) (5.3.2)\n",
            "Requirement already satisfied: pyasn1-modules>=0.2.1 in /usr/local/lib/python3.10/dist-packages (from google-auth<3,>=1.6.3->tensorboard<2.16,>=2.15->tensorflow~=2.15.0->tensorflow_decision_forests) (0.3.0)\n",
            "Requirement already satisfied: rsa<5,>=3.1.4 in /usr/local/lib/python3.10/dist-packages (from google-auth<3,>=1.6.3->tensorboard<2.16,>=2.15->tensorflow~=2.15.0->tensorflow_decision_forests) (4.9)\n",
            "Requirement already satisfied: requests-oauthlib>=0.7.0 in /usr/local/lib/python3.10/dist-packages (from google-auth-oauthlib<2,>=0.5->tensorboard<2.16,>=2.15->tensorflow~=2.15.0->tensorflow_decision_forests) (1.3.1)\n",
            "Requirement already satisfied: charset-normalizer<4,>=2 in /usr/local/lib/python3.10/dist-packages (from requests<3,>=2.21.0->tensorboard<2.16,>=2.15->tensorflow~=2.15.0->tensorflow_decision_forests) (3.3.2)\n",
            "Requirement already satisfied: idna<4,>=2.5 in /usr/local/lib/python3.10/dist-packages (from requests<3,>=2.21.0->tensorboard<2.16,>=2.15->tensorflow~=2.15.0->tensorflow_decision_forests) (3.6)\n",
            "Requirement already satisfied: urllib3<3,>=1.21.1 in /usr/local/lib/python3.10/dist-packages (from requests<3,>=2.21.0->tensorboard<2.16,>=2.15->tensorflow~=2.15.0->tensorflow_decision_forests) (2.0.7)\n",
            "Requirement already satisfied: certifi>=2017.4.17 in /usr/local/lib/python3.10/dist-packages (from requests<3,>=2.21.0->tensorboard<2.16,>=2.15->tensorflow~=2.15.0->tensorflow_decision_forests) (2023.11.17)\n",
            "Requirement already satisfied: MarkupSafe>=2.1.1 in /usr/local/lib/python3.10/dist-packages (from werkzeug>=1.0.1->tensorboard<2.16,>=2.15->tensorflow~=2.15.0->tensorflow_decision_forests) (2.1.3)\n",
            "Requirement already satisfied: pyasn1<0.6.0,>=0.4.6 in /usr/local/lib/python3.10/dist-packages (from pyasn1-modules>=0.2.1->google-auth<3,>=1.6.3->tensorboard<2.16,>=2.15->tensorflow~=2.15.0->tensorflow_decision_forests) (0.5.1)\n",
            "Requirement already satisfied: oauthlib>=3.0.0 in /usr/local/lib/python3.10/dist-packages (from requests-oauthlib>=0.7.0->google-auth-oauthlib<2,>=0.5->tensorboard<2.16,>=2.15->tensorflow~=2.15.0->tensorflow_decision_forests) (3.2.2)\n",
            "Installing collected packages: wurlitzer, tensorflow_decision_forests\n",
            "Successfully installed tensorflow_decision_forests-1.8.1 wurlitzer-3.0.3\n"
          ]
        }
      ],
      "source": [
        "!pip install tensorflow_decision_forests"
      ]
    },
    {
      "cell_type": "code",
      "execution_count": null,
      "metadata": {
        "id": "a5eYwZOT6DfI"
      },
      "outputs": [],
      "source": [
        "import tensorflow_decision_forests as tfdf\n",
        "\n",
        "import numpy as np\n",
        "import pandas as pd\n",
        "import seaborn as sns\n",
        "import matplotlib.pyplot as plt\n",
        "import tensorflow as tf\n",
        "import os\n",
        "\n",
        "%matplotlib inline"
      ]
    },
    {
      "cell_type": "markdown",
      "metadata": {
        "id": "ztaoAszC0DU4"
      },
      "source": [
        "###Download Data"
      ]
    },
    {
      "cell_type": "code",
      "execution_count": null,
      "metadata": {
        "id": "BH0CwlCJ6IsN",
        "colab": {
          "base_uri": "https://localhost:8080/"
        },
        "outputId": "469dda3d-52c8-4c6f-8bc6-d71214affd43"
      },
      "outputs": [
        {
          "output_type": "stream",
          "name": "stdout",
          "text": [
            "Downloading data from https://raw.githubusercontent.com/alflaylah/Trial-Predict-Carbon-Emission-Using-TFDF/main/Data_Emisi_Mobil_dan_motor_DKI_Jakarta.csv\n",
            "197871/197871 [==============================] - 0s 0us/step\n"
          ]
        }
      ],
      "source": [
        "csv_file = tf.keras.utils.get_file('.csv', 'https://raw.githubusercontent.com/alflaylah/Trial-Predict-Carbon-Emission-Using-TFDF/main/Data_Emisi_Mobil_dan_motor_DKI_Jakarta.csv')\n"
      ]
    },
    {
      "cell_type": "markdown",
      "metadata": {
        "id": "K1oVU9kv1CA-"
      },
      "source": [
        "###Inspecting Data"
      ]
    },
    {
      "cell_type": "code",
      "execution_count": null,
      "metadata": {
        "colab": {
          "base_uri": "https://localhost:8080/"
        },
        "id": "-snVSXDl6WgF",
        "outputId": "48a1c690-72de-4ace-a1db-dad872ee2b6d"
      },
      "outputs": [
        {
          "output_type": "stream",
          "name": "stdout",
          "text": [
            "  BahanBakar JenisKendaraan  HasilUjiEmisi\n",
            "0     Bensin            SUV           0.02\n",
            "1     Bensin  MPV/ MINI BUS           0.19\n",
            "2     Bensin  MPV/ MINI BUS           0.01\n",
            "3     Bensin      HATCHBACK           0.03\n",
            "4     Bensin  MPV/ MINI BUS           0.38\n",
            "5     Bensin      HATCHBACK           0.23\n",
            "6     Bensin        PICK UP           0.02\n",
            "7     Bensin            SUV           0.01\n",
            "8     Bensin  MPV/ MINI BUS           0.07\n",
            "9     Bensin  MPV/ MINI BUS           0.45\n",
            "\n",
            "\n",
            "BahanBakar         object\n",
            "JenisKendaraan     object\n",
            "HasilUjiEmisi     float64\n",
            "dtype: object\n"
          ]
        }
      ],
      "source": [
        "# Read csv file\n",
        "\n",
        "data = pd.read_csv(csv_file)\n",
        "\n",
        "print(data.head(10))\n",
        "print('\\n')\n",
        "print(data.dtypes)"
      ]
    },
    {
      "cell_type": "code",
      "execution_count": null,
      "metadata": {
        "colab": {
          "base_uri": "https://localhost:8080/"
        },
        "id": "iPgTqJmE6b3B",
        "outputId": "51171d51-e55a-4ce1-950a-4dc5ab28cc2a"
      },
      "outputs": [
        {
          "output_type": "stream",
          "name": "stdout",
          "text": [
            "<class 'pandas.core.frame.DataFrame'>\n",
            "RangeIndex: 9001 entries, 0 to 9000\n",
            "Data columns (total 3 columns):\n",
            " #   Column          Non-Null Count  Dtype  \n",
            "---  ------          --------------  -----  \n",
            " 0   BahanBakar      9001 non-null   object \n",
            " 1   JenisKendaraan  9001 non-null   object \n",
            " 2   HasilUjiEmisi   9001 non-null   float64\n",
            "dtypes: float64(1), object(2)\n",
            "memory usage: 211.1+ KB\n"
          ]
        }
      ],
      "source": [
        "data.info()"
      ]
    },
    {
      "cell_type": "code",
      "source": [
        "# ngecek data null\n",
        "\n",
        "data_null = data.isnull().values.any()\n",
        "\n",
        "if data_null:\n",
        "  print(\"Ada data null\")\n",
        "else:\n",
        "  print(\"Tidak ada data null\")"
      ],
      "metadata": {
        "colab": {
          "base_uri": "https://localhost:8080/"
        },
        "id": "4tfrR47nq5s6",
        "outputId": "055d06bf-5b94-46e2-ef08-fa009d6690b3"
      },
      "execution_count": null,
      "outputs": [
        {
          "output_type": "stream",
          "name": "stdout",
          "text": [
            "Tidak ada data null\n"
          ]
        }
      ]
    },
    {
      "cell_type": "code",
      "source": [
        "# melihat data apa saja yg ada di kolom jenis kendaraan\n",
        "\n",
        "jenis_kendaraan = data['JenisKendaraan'].value_counts()\n",
        "print(\"Jenis Kendaraan dan Banyaknya:\\n\", jenis_kendaraan)"
      ],
      "metadata": {
        "colab": {
          "base_uri": "https://localhost:8080/"
        },
        "id": "uZFK8Wy7q-ef",
        "outputId": "3397db8f-ef67-4c82-f5be-34fe126c4673"
      },
      "execution_count": null,
      "outputs": [
        {
          "output_type": "stream",
          "name": "stdout",
          "text": [
            "Jenis Kendaraan dan Banyaknya:\n",
            " MOTOR            4001\n",
            "MPV/ MINI BUS    3401\n",
            "SUV               612\n",
            "HATCHBACK         408\n",
            "SEDAN             348\n",
            "PICK UP           105\n",
            "JEEP               51\n",
            "WAGON              29\n",
            "BOX                17\n",
            "TRUCK               8\n",
            "CONVERTIBLE         7\n",
            "LAINNYA             5\n",
            "BUS                 4\n",
            "COUPE               3\n",
            "MOTOR 2 TAK         2\n",
            "Name: JenisKendaraan, dtype: int64\n"
          ]
        }
      ]
    },
    {
      "cell_type": "code",
      "source": [
        "# hapus data untuk wagon, box, truck, convertible, lainnya, coupe, motor 2 tak\n",
        "unused_data = ['WAGON', 'BOX', 'TRUCK', 'CONVERTIBLE', 'LAINNYA', 'COUPE', 'MOTOR 2 TAK']\n",
        "\n",
        "data = data[~data['JenisKendaraan'].isin(unused_data)]\n",
        "\n",
        "# melihat data apa saja yg ada di kolom jenis kendaraan setelah menghapus unused data\n",
        "jenis_kendaraan = data['JenisKendaraan'].value_counts()\n",
        "print(\"Jenis Kendaraan dan Banyaknya:\\n\", jenis_kendaraan)"
      ],
      "metadata": {
        "colab": {
          "base_uri": "https://localhost:8080/"
        },
        "id": "k5A5ZSADrBnp",
        "outputId": "7859a587-9314-467f-ecbb-6e4573ea56c2"
      },
      "execution_count": null,
      "outputs": [
        {
          "output_type": "stream",
          "name": "stdout",
          "text": [
            "Jenis Kendaraan dan Banyaknya:\n",
            " MOTOR            4001\n",
            "MPV/ MINI BUS    3401\n",
            "SUV               612\n",
            "HATCHBACK         408\n",
            "SEDAN             348\n",
            "PICK UP           105\n",
            "JEEP               51\n",
            "BUS                 4\n",
            "Name: JenisKendaraan, dtype: int64\n"
          ]
        }
      ]
    },
    {
      "cell_type": "code",
      "source": [
        "# konversi categorical data ke integer categorical data\n",
        "\n",
        "# membuat kamus pemetaan untuk JenisKendaraan\n",
        "mapping1 = {'MOTOR': 1, 'MPV/ MINI BUS': 2, 'SUV': 3, 'HATCHBACK': 4, 'SEDAN': 5, 'PICK UP': 6, 'JEEP': 7, 'BUS': 8}\n",
        "# terapkan pemetaan dengan metode map()\n",
        "data['JenisKendaraan'] = data['JenisKendaraan'].map(mapping1)\n",
        "\n",
        "\n",
        "print(data)"
      ],
      "metadata": {
        "colab": {
          "base_uri": "https://localhost:8080/"
        },
        "id": "yfFrYzYwrIbA",
        "outputId": "88365f77-982e-485d-c2b0-2582c852d9c3"
      },
      "execution_count": null,
      "outputs": [
        {
          "output_type": "stream",
          "name": "stdout",
          "text": [
            "     BahanBakar  JenisKendaraan  HasilUjiEmisi\n",
            "0        Bensin               3           0.02\n",
            "1        Bensin               2           0.19\n",
            "2        Bensin               2           0.01\n",
            "3        Bensin               4           0.03\n",
            "4        Bensin               2           0.38\n",
            "...         ...             ...            ...\n",
            "8996     Bensin               1           0.09\n",
            "8997     Bensin               1           0.59\n",
            "8998     Bensin               1           2.06\n",
            "8999     Bensin               1           0.38\n",
            "9000     Bensin               1           1.16\n",
            "\n",
            "[8930 rows x 3 columns]\n"
          ]
        },
        {
          "output_type": "stream",
          "name": "stderr",
          "text": [
            "<ipython-input-9-b8c754d5927f>:6: SettingWithCopyWarning: \n",
            "A value is trying to be set on a copy of a slice from a DataFrame.\n",
            "Try using .loc[row_indexer,col_indexer] = value instead\n",
            "\n",
            "See the caveats in the documentation: https://pandas.pydata.org/pandas-docs/stable/user_guide/indexing.html#returning-a-view-versus-a-copy\n",
            "  data['JenisKendaraan'] = data['JenisKendaraan'].map(mapping1)\n"
          ]
        }
      ]
    },
    {
      "cell_type": "code",
      "source": [
        "# konversi categorical data ke integer categorical data\n",
        "\n",
        "# membuat kamus pemetaan untuk BahanBakar\n",
        "mapping2 = {'Bensin': 0}\n",
        "# terapkan pemetaan dengan metode map()\n",
        "data['BahanBakar'] = data['BahanBakar'].map(mapping2)\n",
        "\n",
        "\n",
        "print(data)"
      ],
      "metadata": {
        "colab": {
          "base_uri": "https://localhost:8080/"
        },
        "id": "siwxMe1krLGr",
        "outputId": "502fc08e-60f7-4768-94e1-d13f4d275e5e"
      },
      "execution_count": null,
      "outputs": [
        {
          "output_type": "stream",
          "name": "stdout",
          "text": [
            "      BahanBakar  JenisKendaraan  HasilUjiEmisi\n",
            "0              0               3           0.02\n",
            "1              0               2           0.19\n",
            "2              0               2           0.01\n",
            "3              0               4           0.03\n",
            "4              0               2           0.38\n",
            "...          ...             ...            ...\n",
            "8996           0               1           0.09\n",
            "8997           0               1           0.59\n",
            "8998           0               1           2.06\n",
            "8999           0               1           0.38\n",
            "9000           0               1           1.16\n",
            "\n",
            "[8930 rows x 3 columns]\n"
          ]
        },
        {
          "output_type": "stream",
          "name": "stderr",
          "text": [
            "<ipython-input-10-67de5c2914bc>:6: SettingWithCopyWarning: \n",
            "A value is trying to be set on a copy of a slice from a DataFrame.\n",
            "Try using .loc[row_indexer,col_indexer] = value instead\n",
            "\n",
            "See the caveats in the documentation: https://pandas.pydata.org/pandas-docs/stable/user_guide/indexing.html#returning-a-view-versus-a-copy\n",
            "  data['BahanBakar'] = data['BahanBakar'].map(mapping2)\n"
          ]
        }
      ]
    },
    {
      "cell_type": "code",
      "source": [
        "# info data setelah categorical data diubah\n",
        "\n",
        "data.info()"
      ],
      "metadata": {
        "colab": {
          "base_uri": "https://localhost:8080/"
        },
        "id": "POGG0EOBrkQj",
        "outputId": "017d0312-711d-46d9-df98-0a7c6e385f92"
      },
      "execution_count": null,
      "outputs": [
        {
          "output_type": "stream",
          "name": "stdout",
          "text": [
            "<class 'pandas.core.frame.DataFrame'>\n",
            "Int64Index: 8930 entries, 0 to 9000\n",
            "Data columns (total 3 columns):\n",
            " #   Column          Non-Null Count  Dtype  \n",
            "---  ------          --------------  -----  \n",
            " 0   BahanBakar      8930 non-null   int64  \n",
            " 1   JenisKendaraan  8930 non-null   int64  \n",
            " 2   HasilUjiEmisi   8930 non-null   float64\n",
            "dtypes: float64(1), int64(2)\n",
            "memory usage: 279.1 KB\n"
          ]
        }
      ]
    },
    {
      "cell_type": "code",
      "execution_count": null,
      "metadata": {
        "colab": {
          "base_uri": "https://localhost:8080/",
          "height": 658
        },
        "id": "3o6sAGnK6jm9",
        "outputId": "3ce3e5d3-b143-45c7-9778-dd32792bf791"
      },
      "outputs": [
        {
          "output_type": "stream",
          "name": "stdout",
          "text": [
            "count    8930.000000\n",
            "mean        0.856738\n",
            "std         1.443880\n",
            "min         0.001000\n",
            "25%         0.020000\n",
            "50%         0.160000\n",
            "75%         1.000000\n",
            "max        10.000000\n",
            "Name: HasilUjiEmisi, dtype: float64\n"
          ]
        },
        {
          "output_type": "stream",
          "name": "stderr",
          "text": [
            "<ipython-input-12-c135c398d4ae>:5: UserWarning: \n",
            "\n",
            "`distplot` is a deprecated function and will be removed in seaborn v0.14.0.\n",
            "\n",
            "Please adapt your code to use either `displot` (a figure-level function with\n",
            "similar flexibility) or `histplot` (an axes-level function for histograms).\n",
            "\n",
            "For a guide to updating your code to use the new functions, please see\n",
            "https://gist.github.com/mwaskom/de44147ed2974457ad6372750bbe5751\n",
            "\n",
            "  sns.distplot(data['HasilUjiEmisi'], color='b', bins=100, hist_kws={'alpha': 0.4});\n"
          ]
        },
        {
          "output_type": "display_data",
          "data": {
            "text/plain": [
              "<Figure size 400x300 with 1 Axes>"
            ],
            "image/png": "[encoded data removed]"
          },
          "metadata": {}
        }
      ],
      "source": [
        "# HasilUjiEmisi Distribution\n",
        "\n",
        "print(data['HasilUjiEmisi'].describe())\n",
        "plt.figure(figsize=(4,3))\n",
        "sns.distplot(data['HasilUjiEmisi'], color='b', bins=100, hist_kws={'alpha': 0.4});\n"
      ]
    },
    {
      "cell_type": "code",
      "execution_count": null,
      "metadata": {
        "colab": {
          "base_uri": "https://localhost:8080/"
        },
        "id": "FEqxvk6WGz6C",
        "outputId": "2a9af255-74f3-411d-b0bc-b0d8f04b27e1"
      },
      "outputs": [
        {
          "output_type": "execute_result",
          "data": {
            "text/plain": [
              "[dtype('float64'), dtype('int64')]"
            ]
          },
          "metadata": {},
          "execution_count": 13
        }
      ],
      "source": [
        "# List all the types of data from the dataset\n",
        "\n",
        "list(set(data.dtypes.tolist()))"
      ]
    },
    {
      "cell_type": "code",
      "execution_count": null,
      "metadata": {
        "colab": {
          "base_uri": "https://localhost:8080/"
        },
        "id": "4Pi8bhgk6uoH",
        "outputId": "1aaae841-b31c-404d-cd83-6c21ed30fc92"
      },
      "outputs": [
        {
          "output_type": "stream",
          "name": "stdout",
          "text": [
            " 7144 examples in training dataset.\n",
            " 1786 examples in validation dataset.\n"
          ]
        }
      ],
      "source": [
        "# Split dataset into training and validation dataset\n",
        "\n",
        "def split_dataset(dataset, training_ratio=0.8):\n",
        "  # Shuffle the dataset randomly using pandas' object (sample)\n",
        "  # frac=1 -> specifies that we want to sample the entire dataframe\n",
        "  dataset = dataset.sample(frac=1)\n",
        "\n",
        "  # Calculate the number of samples for each split\n",
        "  num_samples = len(dataset)\n",
        "  num_training = int(training_ratio * num_samples)\n",
        "\n",
        "  # Split dataset\n",
        "  training_data = dataset[:num_training]\n",
        "  validation_data = dataset[num_training:]\n",
        "\n",
        "  return training_data, validation_data\n",
        "\n",
        "training_data_pd, validation_data_pd = split_dataset(data)\n",
        "\n",
        "print(\" {} examples in training dataset.\".format(len(training_data_pd)))\n",
        "print(\" {} examples in validation dataset.\".format(len(validation_data_pd)))"
      ]
    },
    {
      "cell_type": "code",
      "execution_count": null,
      "metadata": {
        "colab": {
          "base_uri": "https://localhost:8080/"
        },
        "id": "kPCDZW6Vhjqi",
        "outputId": "97b57f81-6aa2-4c04-90bc-d09e87fc0620"
      },
      "outputs": [
        {
          "output_type": "stream",
          "name": "stdout",
          "text": [
            "      BahanBakar  JenisKendaraan  HasilUjiEmisi\n",
            "2012           0               3           0.01\n",
            "6836           0               1           0.28\n",
            "893            0               2           0.04\n",
            "114            0               5           1.37\n",
            "4332           0               2           0.09\n",
            "1007           0               3           0.02\n",
            "5830           0               1           2.03\n",
            "6757           0               1           0.51\n",
            "4224           0               2           0.60\n",
            "8662           0               1           1.89\n",
            "\n",
            "\n",
            "BahanBakar          int64\n",
            "JenisKendaraan      int64\n",
            "HasilUjiEmisi     float64\n",
            "dtype: object\n"
          ]
        }
      ],
      "source": [
        "# first 10 data for training\n",
        "print(training_data_pd.head(10))\n",
        "print('\\n')\n",
        "print(data.dtypes)"
      ]
    },
    {
      "cell_type": "code",
      "execution_count": null,
      "metadata": {
        "colab": {
          "base_uri": "https://localhost:8080/"
        },
        "id": "WYawtF7zh7Np",
        "outputId": "78fad903-5cfd-4c75-ee97-ee652b882ca2"
      },
      "outputs": [
        {
          "output_type": "stream",
          "name": "stdout",
          "text": [
            "      BahanBakar  JenisKendaraan  HasilUjiEmisi\n",
            "8424           0               1           3.08\n",
            "8980           0               1           0.13\n",
            "3770           0               2           0.01\n",
            "4542           0               2           0.13\n",
            "1097           0               2           0.04\n",
            "1445           0               4           0.01\n",
            "8444           0               1           5.29\n",
            "3261           0               2           1.39\n",
            "8625           0               1           0.07\n",
            "2189           0               4           0.02\n",
            "\n",
            "\n",
            "BahanBakar          int64\n",
            "JenisKendaraan      int64\n",
            "HasilUjiEmisi     float64\n",
            "dtype: object\n"
          ]
        }
      ],
      "source": [
        "# first 10 data for validation\n",
        "print(validation_data_pd.head(10))\n",
        "print('\\n')\n",
        "print(data.dtypes)"
      ]
    },
    {
      "cell_type": "code",
      "execution_count": null,
      "metadata": {
        "id": "XXS4AvRf6x0S"
      },
      "outputs": [],
      "source": [
        "# Convert dataset from pd format to tf dataset format\n",
        "\n",
        "label = 'HasilUjiEmisi'\n",
        "task = tfdf.keras.Task.REGRESSION\n",
        "\n",
        "training_data = tfdf.keras.pd_dataframe_to_tf_dataset(training_data_pd, label=label, task=task, batch_size=100)\n",
        "validation_data = tfdf.keras.pd_dataframe_to_tf_dataset(validation_data_pd, label=label, task=task, batch_size=100)\n",
        "#test_data = tfdf.keras.pd_dataframe_to_tf_dataset(test_data_pd, label=label, task=task, batch_size=100)\n"
      ]
    },
    {
      "cell_type": "markdown",
      "metadata": {
        "id": "Ut0Dml2j1dDH"
      },
      "source": [
        "###Training Model"
      ]
    },
    {
      "cell_type": "code",
      "execution_count": null,
      "metadata": {
        "colab": {
          "base_uri": "https://localhost:8080/"
        },
        "id": "WfNfh9Hw62mu",
        "outputId": "3f4d3158-db3c-4c31-f189-683a0fe45a7e"
      },
      "outputs": [
        {
          "output_type": "execute_result",
          "data": {
            "text/plain": [
              "[tensorflow_decision_forests.keras.RandomForestModel,\n",
              " tensorflow_decision_forests.keras.GradientBoostedTreesModel,\n",
              " tensorflow_decision_forests.keras.CartModel,\n",
              " tensorflow_decision_forests.keras.DistributedGradientBoostedTreesModel]"
            ]
          },
          "metadata": {},
          "execution_count": 18
        }
      ],
      "source": [
        "# All tree-based models in TF-DF\n",
        "\n",
        "tfdf.keras.get_all_models()\n"
      ]
    },
    {
      "cell_type": "code",
      "execution_count": null,
      "metadata": {
        "colab": {
          "base_uri": "https://localhost:8080/"
        },
        "id": "Rzn9-xKe65j8",
        "outputId": "acb21bd1-ae92-4fb5-b861-6f4bf088c7bf"
      },
      "outputs": [
        {
          "output_type": "stream",
          "name": "stdout",
          "text": [
            "Use 2 thread(s) for training\n",
            "Use /tmp/tmpeo0z78lt as temporary training directory\n"
          ]
        }
      ],
      "source": [
        "# Use random forest model\n",
        "\n",
        "task = tfdf.keras.Task.REGRESSION\n",
        "rf_model = tfdf.keras.RandomForestModel(task=task, verbose=2)\n"
      ]
    },
    {
      "cell_type": "code",
      "execution_count": null,
      "metadata": {
        "colab": {
          "base_uri": "https://localhost:8080/"
        },
        "id": "RKT8cBUU68jk",
        "outputId": "ad667d9a-c340-4629-b13d-94513fa0df66"
      },
      "outputs": [
        {
          "output_type": "stream",
          "name": "stdout",
          "text": [
            "Warning: Model constructor argument monitor=mean_squared_error not supported. See https://www.tensorflow.org/decision_forests/migration for an explanation about the specificities of TF-DF.\n"
          ]
        },
        {
          "output_type": "stream",
          "name": "stderr",
          "text": [
            "WARNING:absl:Model constructor argument monitor=mean_squared_error not supported. See https://www.tensorflow.org/decision_forests/migration for an explanation about the specificities of TF-DF.\n"
          ]
        },
        {
          "output_type": "stream",
          "name": "stdout",
          "text": [
            "Warning: Model constructor argument early_stopping_rounds=10 not supported. See https://www.tensorflow.org/decision_forests/migration for an explanation about the specificities of TF-DF.\n"
          ]
        },
        {
          "output_type": "stream",
          "name": "stderr",
          "text": [
            "WARNING:absl:Model constructor argument early_stopping_rounds=10 not supported. See https://www.tensorflow.org/decision_forests/migration for an explanation about the specificities of TF-DF.\n"
          ]
        },
        {
          "output_type": "stream",
          "name": "stdout",
          "text": [
            "Reading training dataset...\n",
            "Training tensor examples:\n",
            "Features: {'BahanBakar': <tf.Tensor 'data:0' shape=(None,) dtype=int64>, 'JenisKendaraan': <tf.Tensor 'data_1:0' shape=(None,) dtype=int64>}\n",
            "Label: Tensor(\"data_2:0\", shape=(None,), dtype=float64)\n",
            "Weights: None\n",
            "Normalized tensor features:\n",
            " {'BahanBakar': SemanticTensor(semantic=<Semantic.NUMERICAL: 1>, tensor=<tf.Tensor 'Cast:0' shape=(None,) dtype=float32>), 'JenisKendaraan': SemanticTensor(semantic=<Semantic.NUMERICAL: 1>, tensor=<tf.Tensor 'Cast_1:0' shape=(None,) dtype=float32>)}\n",
            "Training dataset read in 0:00:05.376401. Found 7144 examples.\n",
            "Training model...\n",
            "Standard output detected as not visible to the user e.g. running in a notebook. Creating a training log redirection. If training gets stuck, try calling tfdf.keras.set_training_logs_redirection(False).\n"
          ]
        },
        {
          "output_type": "stream",
          "name": "stderr",
          "text": [
            "[INFO 23-12-21 09:04:07.0712 UTC kernel.cc:771] Start Yggdrasil model training\n",
            "[INFO 23-12-21 09:04:07.0713 UTC kernel.cc:772] Collect training examples\n",
            "[INFO 23-12-21 09:04:07.0713 UTC kernel.cc:785] Dataspec guide:\n",
            "column_guides {\n",
            "  column_name_pattern: \"^__LABEL$\"\n",
            "  type: NUMERICAL\n",
            "}\n",
            "default_column_guide {\n",
            "  categorial {\n",
            "    max_vocab_count: 2000\n",
            "  }\n",
            "  discretized_numerical {\n",
            "    maximum_num_bins: 255\n",
            "  }\n",
            "}\n",
            "ignore_columns_without_guides: false\n",
            "detect_numerical_as_discretized_numerical: false\n",
            "\n",
            "[INFO 23-12-21 09:04:07.0718 UTC kernel.cc:391] Number of batches: 72\n",
            "[INFO 23-12-21 09:04:07.0718 UTC kernel.cc:392] Number of examples: 7144\n",
            "[INFO 23-12-21 09:04:07.0723 UTC kernel.cc:792] Training dataset:\n",
            "Number of records: 7144\n",
            "Number of columns: 3\n",
            "\n",
            "Number of columns by type:\n",
            "\tNUMERICAL: 3 (100%)\n",
            "\n",
            "Columns:\n",
            "\n",
            "NUMERICAL: 3 (100%)\n",
            "\t0: \"BahanBakar\" NUMERICAL mean:0 min:0 max:0 sd:0\n",
            "\t1: \"JenisKendaraan\" NUMERICAL mean:1.90006 min:1 max:8 sd:1.17234\n",
            "\t2: \"__LABEL\" NUMERICAL mean:0.84769 min:0.001 max:10 sd:1.43191\n",
            "\n",
            "Terminology:\n",
            "\tnas: Number of non-available (i.e. missing) values.\n",
            "\tood: Out of dictionary.\n",
            "\tmanually-defined: Attribute whose type is manually defined by the user, i.e., the type was not automatically inferred.\n",
            "\ttokenized: The attribute value is obtained through tokenization.\n",
            "\thas-dict: The attribute is attached to a string dictionary e.g. a categorical attribute stored as a string.\n",
            "\tvocab-size: Number of unique values.\n",
            "\n",
            "[INFO 23-12-21 09:04:07.0723 UTC kernel.cc:808] Configure learner\n",
            "[INFO 23-12-21 09:04:07.0726 UTC kernel.cc:822] Training config:\n",
            "learner: \"RANDOM_FOREST\"\n",
            "features: \"^BahanBakar$\"\n",
            "features: \"^JenisKendaraan$\"\n",
            "label: \"^__LABEL$\"\n",
            "task: REGRESSION\n",
            "random_seed: 123456\n",
            "metadata {\n",
            "  framework: \"TF Keras\"\n",
            "}\n",
            "pure_serving_model: false\n",
            "[yggdrasil_decision_forests.model.random_forest.proto.random_forest_config] {\n",
            "  num_trees: 300\n",
            "  decision_tree {\n",
            "    max_depth: 16\n",
            "    min_examples: 5\n",
            "    in_split_min_examples_check: true\n",
            "    keep_non_leaf_label_distribution: true\n",
            "    num_candidate_attributes: 0\n",
            "    missing_value_policy: GLOBAL_IMPUTATION\n",
            "    allow_na_conditions: false\n",
            "    categorical_set_greedy_forward {\n",
            "      sampling: 0.1\n",
            "      max_num_items: -1\n",
            "      min_item_frequency: 1\n",
            "    }\n",
            "    growing_strategy_local {\n",
            "    }\n",
            "    categorical {\n",
            "      cart {\n",
            "      }\n",
            "    }\n",
            "    axis_aligned_split {\n",
            "    }\n",
            "    internal {\n",
            "      sorting_strategy: PRESORTED\n",
            "    }\n",
            "    uplift {\n",
            "      min_examples_in_treatment: 5\n",
            "      split_score: KULLBACK_LEIBLER\n",
            "    }\n",
            "  }\n",
            "  winner_take_all_inference: true\n",
            "  compute_oob_performances: true\n",
            "  compute_oob_variable_importances: false\n",
            "  num_oob_variable_importances_permutations: 1\n",
            "  bootstrap_training_dataset: true\n",
            "  bootstrap_size_ratio: 1\n",
            "  adapt_bootstrap_size_ratio_for_maximum_training_duration: false\n",
            "  sampling_with_replacement: true\n",
            "}\n",
            "\n",
            "[INFO 23-12-21 09:04:07.0732 UTC kernel.cc:825] Deployment config:\n",
            "cache_path: \"/tmp/tmpeo0z78lt/working_cache\"\n",
            "num_threads: 2\n",
            "try_resume_training: true\n",
            "\n",
            "[INFO 23-12-21 09:04:07.0734 UTC kernel.cc:887] Train model\n",
            "[INFO 23-12-21 09:04:07.0735 UTC random_forest.cc:416] Training random forest on 7144 example(s) and 2 feature(s).\n",
            "[INFO 23-12-21 09:04:07.0858 UTC random_forest.cc:802] Training of tree  1/300 (tree index:1) done rmse:1.13453\n",
            "[INFO 23-12-21 09:04:07.1045 UTC random_forest.cc:802] Training of tree  11/300 (tree index:10) done rmse:1.1992\n",
            "[INFO 23-12-21 09:04:07.1291 UTC random_forest.cc:802] Training of tree  21/300 (tree index:21) done rmse:1.19957\n",
            "[INFO 23-12-21 09:04:07.1519 UTC random_forest.cc:802] Training of tree  31/300 (tree index:30) done rmse:1.19951\n",
            "[INFO 23-12-21 09:04:07.1768 UTC random_forest.cc:802] Training of tree  41/300 (tree index:40) done rmse:1.19944\n",
            "[INFO 23-12-21 09:04:07.2087 UTC random_forest.cc:802] Training of tree  51/300 (tree index:50) done rmse:1.19948\n",
            "[INFO 23-12-21 09:04:07.2326 UTC random_forest.cc:802] Training of tree  61/300 (tree index:60) done rmse:1.1994\n",
            "[INFO 23-12-21 09:04:07.2536 UTC random_forest.cc:802] Training of tree  71/300 (tree index:70) done rmse:1.19936\n",
            "[INFO 23-12-21 09:04:07.2740 UTC random_forest.cc:802] Training of tree  81/300 (tree index:80) done rmse:1.19935\n",
            "[INFO 23-12-21 09:04:07.2938 UTC random_forest.cc:802] Training of tree  91/300 (tree index:90) done rmse:1.19938\n",
            "[INFO 23-12-21 09:04:07.3145 UTC random_forest.cc:802] Training of tree  101/300 (tree index:100) done rmse:1.19936\n",
            "[INFO 23-12-21 09:04:07.3351 UTC random_forest.cc:802] Training of tree  111/300 (tree index:110) done rmse:1.19934\n",
            "[INFO 23-12-21 09:04:07.3551 UTC random_forest.cc:802] Training of tree  121/300 (tree index:120) done rmse:1.19932\n",
            "[INFO 23-12-21 09:04:07.3751 UTC random_forest.cc:802] Training of tree  131/300 (tree index:130) done rmse:1.19931\n",
            "[INFO 23-12-21 09:04:07.3945 UTC random_forest.cc:802] Training of tree  141/300 (tree index:140) done rmse:1.1993\n",
            "[INFO 23-12-21 09:04:07.4163 UTC random_forest.cc:802] Training of tree  151/300 (tree index:150) done rmse:1.19932\n",
            "[INFO 23-12-21 09:04:07.4361 UTC random_forest.cc:802] Training of tree  161/300 (tree index:160) done rmse:1.19932\n",
            "[INFO 23-12-21 09:04:07.4604 UTC random_forest.cc:802] Training of tree  171/300 (tree index:171) done rmse:1.19933\n",
            "[INFO 23-12-21 09:04:07.4802 UTC random_forest.cc:802] Training of tree  181/300 (tree index:180) done rmse:1.19933\n",
            "[INFO 23-12-21 09:04:07.5004 UTC random_forest.cc:802] Training of tree  191/300 (tree index:190) done rmse:1.19935\n",
            "[INFO 23-12-21 09:04:07.5256 UTC random_forest.cc:802] Training of tree  201/300 (tree index:200) done rmse:1.19935\n",
            "[INFO 23-12-21 09:04:07.5465 UTC random_forest.cc:802] Training of tree  211/300 (tree index:210) done rmse:1.19935\n",
            "[INFO 23-12-21 09:04:07.5667 UTC random_forest.cc:802] Training of tree  221/300 (tree index:220) done rmse:1.19936\n",
            "[INFO 23-12-21 09:04:07.5865 UTC random_forest.cc:802] Training of tree  231/300 (tree index:231) done rmse:1.19934\n",
            "[INFO 23-12-21 09:04:07.6064 UTC random_forest.cc:802] Training of tree  241/300 (tree index:240) done rmse:1.19934\n",
            "[INFO 23-12-21 09:04:07.6273 UTC random_forest.cc:802] Training of tree  251/300 (tree index:250) done rmse:1.19934\n",
            "[INFO 23-12-21 09:04:07.6493 UTC random_forest.cc:802] Training of tree  261/300 (tree index:260) done rmse:1.19934\n",
            "[INFO 23-12-21 09:04:07.6727 UTC random_forest.cc:802] Training of tree  271/300 (tree index:270) done rmse:1.19934\n",
            "[INFO 23-12-21 09:04:07.6918 UTC random_forest.cc:802] Training of tree  281/300 (tree index:280) done rmse:1.19933\n",
            "[INFO 23-12-21 09:04:07.7160 UTC random_forest.cc:802] Training of tree  291/300 (tree index:290) done rmse:1.19932\n",
            "[INFO 23-12-21 09:04:07.7375 UTC random_forest.cc:802] Training of tree  300/300 (tree index:299) done rmse:1.19932\n",
            "[INFO 23-12-21 09:04:07.7376 UTC random_forest.cc:882] Final OOB metrics: rmse:1.19932\n",
            "[INFO 23-12-21 09:04:07.7387 UTC kernel.cc:919] Export model in log directory: /tmp/tmpeo0z78lt with prefix e1724443b33d4c4a\n",
            "[INFO 23-12-21 09:04:07.7493 UTC kernel.cc:937] Save model in resources\n",
            "[INFO 23-12-21 09:04:07.7531 UTC abstract_model.cc:881] Model self evaluation:\n",
            "Number of predictions (without weights): 7144\n",
            "Number of predictions (with weights): 7144\n",
            "Task: REGRESSION\n",
            "Label: __LABEL\n",
            "\n",
            "RMSE: 1.19932 CI95[X2][1.17998 1.21932]\n",
            "Default RMSE: : 1.43191\n",
            "\n",
            "[INFO 23-12-21 09:04:07.7690 UTC kernel.cc:1233] Loading model from path /tmp/tmpeo0z78lt/model/ with prefix e1724443b33d4c4a\n",
            "[INFO 23-12-21 09:04:07.7826 UTC decision_forest.cc:660] Model loaded with 300 root(s), 3934 node(s), and 1 input feature(s).\n",
            "[INFO 23-12-21 09:04:07.7826 UTC abstract_model.cc:1344] Engine \"RandomForestOptPred\" built\n",
            "[INFO 23-12-21 09:04:07.7827 UTC kernel.cc:1061] Use fast generic engine\n"
          ]
        },
        {
          "output_type": "stream",
          "name": "stdout",
          "text": [
            "Model trained in 0:00:00.732544\n",
            "Compiling model...\n",
            "Model compiled.\n"
          ]
        },
        {
          "output_type": "execute_result",
          "data": {
            "text/plain": [
              "<keras.src.callbacks.History at 0x79c535d53fd0>"
            ]
          },
          "metadata": {},
          "execution_count": 20
        }
      ],
      "source": [
        "# Training the model (with monitoring MSE)\n",
        "\n",
        "monitor = \"mean_squared_error\" # metric to monitor\n",
        "patience = 10 # number of epochs with no improvement after which training will be stopped\n",
        "\n",
        "# loss_history_callback = tf.keras.callbacks.LossHistory()\n",
        "# rf_model.fit(training_data, callbacks=[loss_history_callback])\n",
        "\n",
        "rf_model.fit(training_data,\n",
        "             monitor=monitor,\n",
        "             early_stopping_rounds=patience)"
      ]
    },
    {
      "cell_type": "code",
      "execution_count": null,
      "metadata": {
        "colab": {
          "base_uri": "https://localhost:8080/",
          "height": 223
        },
        "id": "rTIOvDuTq7Jx",
        "outputId": "9bc4cb5a-5be9-459e-9dd3-462342977a1e"
      },
      "outputs": [
        {
          "output_type": "execute_result",
          "data": {
            "text/plain": [
              "<IPython.core.display.HTML object>"
            ],
            "text/html": [
              "\n",
              "<script src=\"https://d3js.org/d3.v6.min.js\"></script>\n",
              "<div id=\"tree_plot_10f7fc7c7c0e4ce3adb3d567b56d4adc\"></div>\n",
              "<script>\n",
              "/*\n",
              " * Copyright 2021 Google LLC.\n",
              " * Licensed under the Apache License, Version 2.0 (the \"License\");\n",
              " * you may not use this file except in compliance with the License.\n",
              " * You may obtain a copy of the License at\n",
              " *\n",
              " *     https://www.apache.org/licenses/LICENSE-2.0\n",
              " *\n",
              " * Unless required by applicable law or agreed to in writing, software\n",
              " * distributed under the License is distributed on an \"AS IS\" BASIS,\n",
              " * WITHOUT WARRANTIES OR CONDITIONS OF ANY KIND, either express or implied.\n",
              " * See the License for the specific language governing permissions and\n",
              " * limitations under the License.\n",
              " */\n",
              "\n",
              "/**\n",
              " *  Plotting of decision trees generated by TF-DF.\n",
              " *\n",
              " *  A tree is a recursive structure of node objects.\n",
              " *  A node contains one or more of the following components:\n",
              " *\n",
              " *    - A value: Representing the output of the node. If the node is not a leaf,\n",
              " *      the value is only present for analysis i.e. it is not used for\n",
              " *      predictions.\n",
              " *\n",
              " *    - A condition : For non-leaf nodes, the condition (also known as split)\n",
              " *      defines a binary test to branch to the positive or negative child.\n",
              " *\n",
              " *    - An explanation: Generally a plot showing the relation between the label\n",
              " *      and the condition to give insights about the effect of the condition.\n",
              " *\n",
              " *    - Two children : For non-leaf nodes, the children nodes. The first\n",
              " *      children (i.e. \"node.children[0]\") is the negative children (drawn in\n",
              " *      red). The second children is the positive one (drawn in green).\n",
              " *\n",
              " */\n",
              "\n",
              "/**\n",
              " * Plots a single decision tree into a DOM element.\n",
              " * @param {!options} options Dictionary of configurations.\n",
              " * @param {!tree} raw_tree Recursive tree structure.\n",
              " * @param {string} canvas_id Id of the output dom element.\n",
              " */\n",
              "function display_tree(options, raw_tree, canvas_id) {\n",
              "  console.log(options);\n",
              "\n",
              "  // Determine the node placement.\n",
              "  const tree_struct = d3.tree().nodeSize(\n",
              "      [options.node_y_offset, options.node_x_offset])(d3.hierarchy(raw_tree));\n",
              "\n",
              "  // Boundaries of the node placement.\n",
              "  let x_min = Infinity;\n",
              "  let x_max = -x_min;\n",
              "  let y_min = Infinity;\n",
              "  let y_max = -x_min;\n",
              "\n",
              "  tree_struct.each(d => {\n",
              "    if (d.x > x_max) x_max = d.x;\n",
              "    if (d.x < x_min) x_min = d.x;\n",
              "    if (d.y > y_max) y_max = d.y;\n",
              "    if (d.y < y_min) y_min = d.y;\n",
              "  });\n",
              "\n",
              "  // Size of the plot.\n",
              "  const width = y_max - y_min + options.node_x_size + options.margin * 2;\n",
              "  const height = x_max - x_min + options.node_y_size + options.margin * 2 +\n",
              "      options.node_y_offset - options.node_y_size;\n",
              "\n",
              "  const plot = d3.select(canvas_id);\n",
              "\n",
              "  // Tool tip\n",
              "  options.tooltip = plot.append('div')\n",
              "                        .attr('width', 100)\n",
              "                        .attr('height', 100)\n",
              "                        .style('padding', '4px')\n",
              "                        .style('background', '#fff')\n",
              "                        .style('box-shadow', '4px 4px 0px rgba(0,0,0,0.1)')\n",
              "                        .style('border', '1px solid black')\n",
              "                        .style('font-family', 'sans-serif')\n",
              "                        .style('font-size', options.font_size)\n",
              "                        .style('position', 'absolute')\n",
              "                        .style('z-index', '10')\n",
              "                        .attr('pointer-events', 'none')\n",
              "                        .style('display', 'none');\n",
              "\n",
              "  // Create canvas\n",
              "  const svg = plot.append('svg').attr('width', width).attr('height', height);\n",
              "  const graph =\n",
              "      svg.style('overflow', 'visible')\n",
              "          .append('g')\n",
              "          .attr('font-family', 'sans-serif')\n",
              "          .attr('font-size', options.font_size)\n",
              "          .attr(\n",
              "              'transform',\n",
              "              () => `translate(${options.margin},${\n",
              "                  - x_min + options.node_y_offset / 2 + options.margin})`);\n",
              "\n",
              "  // Plot bounding box.\n",
              "  if (options.show_plot_bounding_box) {\n",
              "    svg.append('rect')\n",
              "        .attr('width', width)\n",
              "        .attr('height', height)\n",
              "        .attr('fill', 'none')\n",
              "        .attr('stroke-width', 1.0)\n",
              "        .attr('stroke', 'black');\n",
              "  }\n",
              "\n",
              "  // Draw the edges.\n",
              "  display_edges(options, graph, tree_struct);\n",
              "\n",
              "  // Draw the nodes.\n",
              "  display_nodes(options, graph, tree_struct);\n",
              "}\n",
              "\n",
              "/**\n",
              " * Draw the nodes of the tree.\n",
              " * @param {!options} options Dictionary of configurations.\n",
              " * @param {!graph} graph D3 search handle containing the graph.\n",
              " * @param {!tree_struct} tree_struct Structure of the tree (node placement,\n",
              " *     data, etc.).\n",
              " */\n",
              "function display_nodes(options, graph, tree_struct) {\n",
              "  const nodes = graph.append('g')\n",
              "                    .selectAll('g')\n",
              "                    .data(tree_struct.descendants())\n",
              "                    .join('g')\n",
              "                    .attr('transform', d => `translate(${d.y},${d.x})`);\n",
              "\n",
              "  nodes.append('rect')\n",
              "      .attr('x', 0.5)\n",
              "      .attr('y', 0.5)\n",
              "      .attr('width', options.node_x_size)\n",
              "      .attr('height', options.node_y_size)\n",
              "      .attr('stroke', 'lightgrey')\n",
              "      .attr('stroke-width', 1)\n",
              "      .attr('fill', 'white')\n",
              "      .attr('y', -options.node_y_size / 2);\n",
              "\n",
              "  // Brackets on the right of condition nodes without children.\n",
              "  non_leaf_node_without_children =\n",
              "      nodes.filter(node => node.data.condition != null && node.children == null)\n",
              "          .append('g')\n",
              "          .attr('transform', `translate(${options.node_x_size},0)`);\n",
              "\n",
              "  non_leaf_node_without_children.append('path')\n",
              "      .attr('d', 'M0,0 C 10,0 0,10 10,10')\n",
              "      .attr('fill', 'none')\n",
              "      .attr('stroke-width', 1.0)\n",
              "      .attr('stroke', '#F00');\n",
              "\n",
              "  non_leaf_node_without_children.append('path')\n",
              "      .attr('d', 'M0,0 C 10,0 0,-10 10,-10')\n",
              "      .attr('fill', 'none')\n",
              "      .attr('stroke-width', 1.0)\n",
              "      .attr('stroke', '#0F0');\n",
              "\n",
              "  const node_content = nodes.append('g').attr(\n",
              "      'transform',\n",
              "      `translate(0,${options.node_padding - options.node_y_size / 2})`);\n",
              "\n",
              "  node_content.append(node => create_node_element(options, node));\n",
              "}\n",
              "\n",
              "/**\n",
              " * Creates the D3 content for a single node.\n",
              " * @param {!options} options Dictionary of configurations.\n",
              " * @param {!node} node Node to draw.\n",
              " * @return {!d3} D3 content.\n",
              " */\n",
              "function create_node_element(options, node) {\n",
              "  // Output accumulator.\n",
              "  let output = {\n",
              "    // Content to draw.\n",
              "    content: d3.create('svg:g'),\n",
              "    // Vertical offset to the next element to draw.\n",
              "    vertical_offset: 0\n",
              "  };\n",
              "\n",
              "  // Conditions.\n",
              "  if (node.data.condition != null) {\n",
              "    display_condition(options, node.data.condition, output);\n",
              "  }\n",
              "\n",
              "  // Values.\n",
              "  if (node.data.value != null) {\n",
              "    display_value(options, node.data.value, output);\n",
              "  }\n",
              "\n",
              "  // Explanations.\n",
              "  if (node.data.explanation != null) {\n",
              "    display_explanation(options, node.data.explanation, output);\n",
              "  }\n",
              "\n",
              "  return output.content.node();\n",
              "}\n",
              "\n",
              "\n",
              "/**\n",
              " * Adds a single line of text inside of a node.\n",
              " * @param {!options} options Dictionary of configurations.\n",
              " * @param {string} text Text to display.\n",
              " * @param {!output} output Output display accumulator.\n",
              " */\n",
              "function display_node_text(options, text, output) {\n",
              "  output.content.append('text')\n",
              "      .attr('x', options.node_padding)\n",
              "      .attr('y', output.vertical_offset)\n",
              "      .attr('alignment-baseline', 'hanging')\n",
              "      .text(text);\n",
              "  output.vertical_offset += 10;\n",
              "}\n",
              "\n",
              "/**\n",
              " * Adds a single line of text inside of a node with a tooltip.\n",
              " * @param {!options} options Dictionary of configurations.\n",
              " * @param {string} text Text to display.\n",
              " * @param {string} tooltip Text in the Tooltip.\n",
              " * @param {!output} output Output display accumulator.\n",
              " */\n",
              "function display_node_text_with_tooltip(options, text, tooltip, output) {\n",
              "  const item = output.content.append('text')\n",
              "                   .attr('x', options.node_padding)\n",
              "                   .attr('alignment-baseline', 'hanging')\n",
              "                   .text(text);\n",
              "\n",
              "  add_tooltip(options, item, () => tooltip);\n",
              "  output.vertical_offset += 10;\n",
              "}\n",
              "\n",
              "/**\n",
              " * Adds a tooltip to a dom element.\n",
              " * @param {!options} options Dictionary of configurations.\n",
              " * @param {!dom} target Dom element to equip with a tooltip.\n",
              " * @param {!func} get_content Generates the html content of the tooltip.\n",
              " */\n",
              "function add_tooltip(options, target, get_content) {\n",
              "  function show(d) {\n",
              "    options.tooltip.style('display', 'block');\n",
              "    options.tooltip.html(get_content());\n",
              "  }\n",
              "\n",
              "  function hide(d) {\n",
              "    options.tooltip.style('display', 'none');\n",
              "  }\n",
              "\n",
              "  function move(d) {\n",
              "    options.tooltip.style('display', 'block');\n",
              "    options.tooltip.style('left', (d.pageX + 5) + 'px');\n",
              "    options.tooltip.style('top', d.pageY + 'px');\n",
              "  }\n",
              "\n",
              "  target.on('mouseover', show);\n",
              "  target.on('mouseout', hide);\n",
              "  target.on('mousemove', move);\n",
              "}\n",
              "\n",
              "/**\n",
              " * Adds a condition inside of a node.\n",
              " * @param {!options} options Dictionary of configurations.\n",
              " * @param {!condition} condition Condition to display.\n",
              " * @param {!output} output Output display accumulator.\n",
              " */\n",
              "function display_condition(options, condition, output) {\n",
              "  threshold_format = d3.format('r');\n",
              "\n",
              "  if (condition.type === 'IS_MISSING') {\n",
              "    display_node_text(options, `${condition.attribute} is missing`, output);\n",
              "    return;\n",
              "  }\n",
              "\n",
              "  if (condition.type === 'IS_TRUE') {\n",
              "    display_node_text(options, `${condition.attribute} is true`, output);\n",
              "    return;\n",
              "  }\n",
              "\n",
              "  if (condition.type === 'NUMERICAL_IS_HIGHER_THAN') {\n",
              "    format = d3.format('r');\n",
              "    display_node_text(\n",
              "        options,\n",
              "        `${condition.attribute} >= ${threshold_format(condition.threshold)}`,\n",
              "        output);\n",
              "    return;\n",
              "  }\n",
              "\n",
              "  if (condition.type === 'CATEGORICAL_IS_IN') {\n",
              "    display_node_text_with_tooltip(\n",
              "        options, `${condition.attribute} in [...]`,\n",
              "        `${condition.attribute} in [${condition.mask}]`, output);\n",
              "    return;\n",
              "  }\n",
              "\n",
              "  if (condition.type === 'CATEGORICAL_SET_CONTAINS') {\n",
              "    display_node_text_with_tooltip(\n",
              "        options, `${condition.attribute} intersect [...]`,\n",
              "        `${condition.attribute} intersect [${condition.mask}]`, output);\n",
              "    return;\n",
              "  }\n",
              "\n",
              "  if (condition.type === 'NUMERICAL_SPARSE_OBLIQUE') {\n",
              "    display_node_text_with_tooltip(\n",
              "        options, `Sparse oblique split...`,\n",
              "        `[${condition.attributes}]*[${condition.weights}]>=${\n",
              "            threshold_format(condition.threshold)}`,\n",
              "        output);\n",
              "    return;\n",
              "  }\n",
              "\n",
              "  display_node_text(\n",
              "      options, `Non supported condition ${condition.type}`, output);\n",
              "}\n",
              "\n",
              "/**\n",
              " * Adds a value inside of a node.\n",
              " * @param {!options} options Dictionary of configurations.\n",
              " * @param {!value} value Value to display.\n",
              " * @param {!output} output Output display accumulator.\n",
              " */\n",
              "function display_value(options, value, output) {\n",
              "  if (value.type === 'PROBABILITY') {\n",
              "    const left_margin = 0;\n",
              "    const right_margin = 50;\n",
              "    const plot_width = options.node_x_size - options.node_padding * 2 -\n",
              "        left_margin - right_margin;\n",
              "\n",
              "    let cusum = Array.from(d3.cumsum(value.distribution));\n",
              "    cusum.unshift(0);\n",
              "    const distribution_plot = output.content.append('g').attr(\n",
              "        'transform', `translate(0,${output.vertical_offset + 0.5})`);\n",
              "\n",
              "    distribution_plot.selectAll('rect')\n",
              "        .data(value.distribution)\n",
              "        .join('rect')\n",
              "        .attr('height', 10)\n",
              "        .attr(\n",
              "            'x',\n",
              "            (d, i) =>\n",
              "                (cusum[i] * plot_width + left_margin + options.node_padding))\n",
              "        .attr('width', (d, i) => d * plot_width)\n",
              "        .style('fill', (d, i) => d3.schemeSet1[i]);\n",
              "\n",
              "    const num_examples =\n",
              "        output.content.append('g')\n",
              "            .attr('transform', `translate(0,${output.vertical_offset})`)\n",
              "            .append('text')\n",
              "            .attr('x', options.node_x_size - options.node_padding)\n",
              "            .attr('alignment-baseline', 'hanging')\n",
              "            .attr('text-anchor', 'end')\n",
              "            .text(`(${value.num_examples})`);\n",
              "\n",
              "    const distribution_details = d3.create('ul');\n",
              "    distribution_details.selectAll('li')\n",
              "        .data(value.distribution)\n",
              "        .join('li')\n",
              "        .append('span')\n",
              "        .text(\n",
              "            (d, i) =>\n",
              "                'class ' + i + ': ' + d3.format('.3%')(value.distribution[i]));\n",
              "\n",
              "    add_tooltip(options, distribution_plot, () => distribution_details.html());\n",
              "    add_tooltip(options, num_examples, () => 'Number of examples');\n",
              "\n",
              "    output.vertical_offset += 10;\n",
              "    return;\n",
              "  }\n",
              "\n",
              "  if (value.type === 'REGRESSION') {\n",
              "    display_node_text(\n",
              "        options,\n",
              "        'value: ' + d3.format('r')(value.value) + ` (` +\n",
              "            d3.format('.6')(value.num_examples) + `)`,\n",
              "        output);\n",
              "    return;\n",
              "  }\n",
              "\n",
              "  if (value.type === 'UPLIFT') {\n",
              "    display_node_text(\n",
              "        options,\n",
              "        'effect: ' + d3.format('r')(value.treatment_effect) + ` (` +\n",
              "            d3.format('.6')(value.num_examples) + `)`,\n",
              "        output);\n",
              "    return;\n",
              "  }\n",
              "\n",
              "  display_node_text(options, `Non supported value ${value.type}`, output);\n",
              "}\n",
              "\n",
              "/**\n",
              " * Adds an explanation inside of a node.\n",
              " * @param {!options} options Dictionary of configurations.\n",
              " * @param {!explanation} explanation Explanation to display.\n",
              " * @param {!output} output Output display accumulator.\n",
              " */\n",
              "function display_explanation(options, explanation, output) {\n",
              "  // Margin before the explanation.\n",
              "  output.vertical_offset += 10;\n",
              "\n",
              "  display_node_text(\n",
              "      options, `Non supported explanation ${explanation.type}`, output);\n",
              "}\n",
              "\n",
              "\n",
              "/**\n",
              " * Draw the edges of the tree.\n",
              " * @param {!options} options Dictionary of configurations.\n",
              " * @param {!graph} graph D3 search handle containing the graph.\n",
              " * @param {!tree_struct} tree_struct Structure of the tree (node placement,\n",
              " *     data, etc.).\n",
              " */\n",
              "function display_edges(options, graph, tree_struct) {\n",
              "  // Draw an edge between a parent and a child node with a bezier.\n",
              "  function draw_single_edge(d) {\n",
              "    return 'M' + (d.source.y + options.node_x_size) + ',' + d.source.x + ' C' +\n",
              "        (d.source.y + options.node_x_size + options.edge_rounding) + ',' +\n",
              "        d.source.x + ' ' + (d.target.y - options.edge_rounding) + ',' +\n",
              "        d.target.x + ' ' + d.target.y + ',' + d.target.x;\n",
              "  }\n",
              "\n",
              "  graph.append('g')\n",
              "      .attr('fill', 'none')\n",
              "      .attr('stroke-width', 1.2)\n",
              "      .selectAll('path')\n",
              "      .data(tree_struct.links())\n",
              "      .join('path')\n",
              "      .attr('d', draw_single_edge)\n",
              "      .attr(\n",
              "          'stroke', d => (d.target === d.source.children[0]) ? '#0F0' : '#F00');\n",
              "}\n",
              "\n",
              "display_tree({\"margin\": 10, \"node_x_size\": 160, \"node_y_size\": 28, \"node_x_offset\": 180, \"node_y_offset\": 33, \"font_size\": 10, \"edge_rounding\": 20, \"node_padding\": 2, \"show_plot_bounding_box\": false}, {\"value\": {\"type\": \"REGRESSION\", \"value\": 0.8410348296165466, \"num_examples\": 7144.0, \"standard_deviation\": 1.4175652957013436}, \"condition\": {\"type\": \"NUMERICAL_IS_HIGHER_THAN\", \"attribute\": \"JenisKendaraan\", \"threshold\": 1.5}, \"children\": [{\"value\": {\"type\": \"REGRESSION\", \"value\": 0.1293012648820877, \"num_examples\": 3887.0, \"standard_deviation\": 0.3355127484910831}, \"condition\": {\"type\": \"NUMERICAL_IS_HIGHER_THAN\", \"attribute\": \"JenisKendaraan\", \"threshold\": 6.5}, \"children\": [{\"value\": {\"type\": \"REGRESSION\", \"value\": 0.39337778091430664, \"num_examples\": 45.0, \"standard_deviation\": 0.5943300772674902}}, {\"value\": {\"type\": \"REGRESSION\", \"value\": 0.12620823085308075, \"num_examples\": 3842.0, \"standard_deviation\": 0.3300358764762744}, \"condition\": {\"type\": \"NUMERICAL_IS_HIGHER_THAN\", \"attribute\": \"JenisKendaraan\", \"threshold\": 4.5}, \"children\": [{\"value\": {\"type\": \"REGRESSION\", \"value\": 0.18932011723518372, \"num_examples\": 353.0, \"standard_deviation\": 0.4209944820811085}, \"condition\": {\"type\": \"NUMERICAL_IS_HIGHER_THAN\", \"attribute\": \"JenisKendaraan\", \"threshold\": 5.5}, \"children\": [{\"value\": {\"type\": \"REGRESSION\", \"value\": 0.21012499928474426, \"num_examples\": 80.0, \"standard_deviation\": 0.44111361460622056}}, {\"value\": {\"type\": \"REGRESSION\", \"value\": 0.1832234412431717, \"num_examples\": 273.0, \"standard_deviation\": 0.41471628751862344}}]}, {\"value\": {\"type\": \"REGRESSION\", \"value\": 0.11982287466526031, \"num_examples\": 3489.0, \"standard_deviation\": 0.318697932597155}, \"condition\": {\"type\": \"NUMERICAL_IS_HIGHER_THAN\", \"attribute\": \"JenisKendaraan\", \"threshold\": 3.5}, \"children\": [{\"value\": {\"type\": \"REGRESSION\", \"value\": 0.075773224234581, \"num_examples\": 366.0, \"standard_deviation\": 0.22369166197526874}}, {\"value\": {\"type\": \"REGRESSION\", \"value\": 0.12498527020215988, \"num_examples\": 3123.0, \"standard_deviation\": 0.32764832823017587}, \"condition\": {\"type\": \"NUMERICAL_IS_HIGHER_THAN\", \"attribute\": \"JenisKendaraan\", \"threshold\": 2.5}, \"children\": [{\"value\": {\"type\": \"REGRESSION\", \"value\": 0.10943496972322464, \"num_examples\": 469.0, \"standard_deviation\": 0.21953080987510115}}, {\"value\": {\"type\": \"REGRESSION\", \"value\": 0.1277332305908203, \"num_examples\": 2654.0, \"standard_deviation\": 0.34315813527277544}}]}]}]}]}, {\"value\": {\"type\": \"REGRESSION\", \"value\": 1.6904387474060059, \"num_examples\": 3257.0, \"standard_deviation\": 1.7167697942470452}}]}, \"#tree_plot_10f7fc7c7c0e4ce3adb3d567b56d4adc\")\n",
              "</script>\n"
            ]
          },
          "metadata": {},
          "execution_count": 21
        }
      ],
      "source": [
        "# Visualize the Model\n",
        "# Default number of trees used in random forests is 300\n",
        "\n",
        "tfdf.model_plotter.plot_model_in_colab(rf_model, tree_idx=0, max_depth=5)"
      ]
    },
    {
      "cell_type": "markdown",
      "metadata": {
        "id": "IJUG9DisuGUx"
      },
      "source": [
        "###Model Evaluation"
      ]
    },
    {
      "cell_type": "code",
      "execution_count": null,
      "metadata": {
        "colab": {
          "base_uri": "https://localhost:8080/",
          "height": 388
        },
        "id": "YHhcxAP4jOrJ",
        "outputId": "c81fea3a-a86b-45e0-d0ff-20b568039183"
      },
      "outputs": [
        {
          "output_type": "display_data",
          "data": {
            "text/plain": [
              "<Figure size 1200x400 with 1 Axes>"
            ],
            "image/png": "[encoded data removed]"
          },
          "metadata": {}
        }
      ],
      "source": [
        "logs = rf_model.make_inspector().training_logs()\n",
        "\n",
        "plt.figure(figsize=(12, 4))\n",
        "\n",
        "\n",
        "plt.plot([log.num_trees for log in logs], [log.evaluation.rmse for log in logs])\n",
        "plt.xlabel(\"Number of trees\")\n",
        "plt.ylabel(\"RMSE (out-of-bag)\")\n",
        "\n",
        "plt.show()"
      ]
    },
    {
      "cell_type": "code",
      "execution_count": null,
      "metadata": {
        "colab": {
          "base_uri": "https://localhost:8080/"
        },
        "id": "__RybdSBsJgW",
        "outputId": "56c93397-1836-4221-c797-5ee9f48387f6"
      },
      "outputs": [
        {
          "output_type": "execute_result",
          "data": {
            "text/plain": [
              "Evaluation(num_examples=7144, accuracy=None, loss=None, rmse=1.1993242806919873, ndcg=None, aucs=None, auuc=None, qini=None)"
            ]
          },
          "metadata": {},
          "execution_count": 23
        }
      ],
      "source": [
        "# some general stats on the OOB dataset\n",
        "\n",
        "inspect = rf_model.make_inspector()\n",
        "inspect.evaluation()\n"
      ]
    },
    {
      "cell_type": "code",
      "execution_count": null,
      "metadata": {
        "colab": {
          "base_uri": "https://localhost:8080/"
        },
        "id": "9JKACoDEsj2b",
        "outputId": "d7a39a9b-b520-4a27-e50e-36c231718bd4"
      },
      "outputs": [
        {
          "output_type": "stream",
          "name": "stdout",
          "text": [
            "18/18 [==============================] - 2s 8ms/step - loss: 0.0000e+00 - mse: 1.4948\n",
            "{'loss': 0.0, 'mse': 1.4948272705078125}\n",
            "\n",
            "MSE: 1.4948272705078125\n",
            "RMSE: 1.2226312896813218\n"
          ]
        }
      ],
      "source": [
        "# evaluation using validation dataset\n",
        "import math\n",
        "\n",
        "rf_model.compile(metrics=['mse'])\n",
        "evaluation = rf_model.evaluate(x=validation_data, return_dict=True)\n",
        "\n",
        "print(evaluation)\n",
        "print()\n",
        "print(f\"MSE: {evaluation['mse']}\")\n",
        "print(f\"RMSE: {math.sqrt(evaluation['mse'])}\")"
      ]
    },
    {
      "cell_type": "code",
      "execution_count": null,
      "metadata": {
        "colab": {
          "base_uri": "https://localhost:8080/"
        },
        "id": "pRmJB8B_gohW",
        "outputId": "28409efa-ca59-4b4e-ffd5-dd167354a2cd"
      },
      "outputs": [
        {
          "output_type": "stream",
          "name": "stdout",
          "text": [
            "Model: \"random_forest_model\"\n",
            "_________________________________________________________________\n",
            " Layer (type)                Output Shape              Param #   \n",
            "=================================================================\n",
            "=================================================================\n",
            "Total params: 1 (1.00 Byte)\n",
            "Trainable params: 0 (0.00 Byte)\n",
            "Non-trainable params: 1 (1.00 Byte)\n",
            "_________________________________________________________________\n",
            "Type: \"RANDOM_FOREST\"\n",
            "Task: REGRESSION\n",
            "Label: \"__LABEL\"\n",
            "\n",
            "Input Features (2):\n",
            "\tBahanBakar\n",
            "\tJenisKendaraan\n",
            "\n",
            "No weights\n",
            "\n",
            "Variable Importance: INV_MEAN_MIN_DEPTH:\n",
            "    1. \"JenisKendaraan\"  1.000000 \n",
            "\n",
            "Variable Importance: NUM_AS_ROOT:\n",
            "    1. \"JenisKendaraan\" 300.000000 \n",
            "\n",
            "Variable Importance: NUM_NODES:\n",
            "    1. \"JenisKendaraan\" 1817.000000 \n",
            "\n",
            "Variable Importance: SUM_SCORE:\n",
            "    1. \"JenisKendaraan\" 1315252.498694 \n",
            "\n",
            "\n",
            "\n",
            "Out-of-bag evaluation: rmse:1.19932\n",
            "Number of trees: 300\n",
            "Total number of nodes: 3934\n",
            "\n",
            "Number of nodes by tree:\n",
            "Count: 300 Average: 13.1133 StdDev: 0.462409\n",
            "Min: 13 Max: 15 Ignored: 0\n",
            "----------------------------------------------\n",
            "[ 13, 14) 283  94.33%  94.33% ##########\n",
            "[ 14, 15)   0   0.00%  94.33%\n",
            "[ 15, 15]  17   5.67% 100.00% #\n",
            "\n",
            "Depth by leafs:\n",
            "Count: 2117 Average: 3.36561 StdDev: 1.13497\n",
            "Min: 1 Max: 5 Ignored: 0\n",
            "----------------------------------------------\n",
            "[ 1, 2)  300  14.17%  14.17% ###\n",
            "[ 2, 3)   62   2.93%  17.10% #\n",
            "[ 3, 4)  475  22.44%  39.54% ####\n",
            "[ 4, 5) 1124  53.09%  92.63% ##########\n",
            "[ 5, 5]  156   7.37% 100.00% #\n",
            "\n",
            "Number of training obs by leaf:\n",
            "Count: 2117 Average: 1012.38 StdDev: 1244.26\n",
            "Min: 5 Max: 3326 Ignored: 0\n",
            "----------------------------------------------\n",
            "[    5,  171) 617  29.15%  29.15% ##########\n",
            "[  171,  337) 535  25.27%  54.42% #########\n",
            "[  337,  503) 296  13.98%  68.40% #####\n",
            "[  503,  669)  69   3.26%  71.66% #\n",
            "[  669,  835)   0   0.00%  71.66%\n",
            "[  835, 1001)   0   0.00%  71.66%\n",
            "[ 1001, 1167)   0   0.00%  71.66%\n",
            "[ 1167, 1333)   0   0.00%  71.66%\n",
            "[ 1333, 1499)   0   0.00%  71.66%\n",
            "[ 1499, 1666)   0   0.00%  71.66%\n",
            "[ 1666, 1832)   0   0.00%  71.66%\n",
            "[ 1832, 1998)   0   0.00%  71.66%\n",
            "[ 1998, 2164)   0   0.00%  71.66%\n",
            "[ 2164, 2330)   0   0.00%  71.66%\n",
            "[ 2330, 2496)   0   0.00%  71.66%\n",
            "[ 2496, 2662)  21   0.99%  72.65%\n",
            "[ 2662, 2828) 278  13.13%  85.78% #####\n",
            "[ 2828, 2994)   1   0.05%  85.83%\n",
            "[ 2994, 3160)  27   1.28%  87.10%\n",
            "[ 3160, 3326] 273  12.90% 100.00% ####\n",
            "\n",
            "Attribute in nodes:\n",
            "\t1817 : JenisKendaraan [NUMERICAL]\n",
            "\n",
            "Attribute in nodes with depth <= 0:\n",
            "\t300 : JenisKendaraan [NUMERICAL]\n",
            "\n",
            "Attribute in nodes with depth <= 1:\n",
            "\t600 : JenisKendaraan [NUMERICAL]\n",
            "\n",
            "Attribute in nodes with depth <= 2:\n",
            "\t1138 : JenisKendaraan [NUMERICAL]\n",
            "\n",
            "Attribute in nodes with depth <= 3:\n",
            "\t1739 : JenisKendaraan [NUMERICAL]\n",
            "\n",
            "Attribute in nodes with depth <= 5:\n",
            "\t1817 : JenisKendaraan [NUMERICAL]\n",
            "\n",
            "Condition type in nodes:\n",
            "\t1817 : HigherCondition\n",
            "Condition type in nodes with depth <= 0:\n",
            "\t300 : HigherCondition\n",
            "Condition type in nodes with depth <= 1:\n",
            "\t600 : HigherCondition\n",
            "Condition type in nodes with depth <= 2:\n",
            "\t1138 : HigherCondition\n",
            "Condition type in nodes with depth <= 3:\n",
            "\t1739 : HigherCondition\n",
            "Condition type in nodes with depth <= 5:\n",
            "\t1817 : HigherCondition\n",
            "Node format: NOT_SET\n",
            "\n",
            "Training OOB:\n",
            "\ttrees: 1, Out-of-bag evaluation: rmse:1.13453\n",
            "\ttrees: 11, Out-of-bag evaluation: rmse:1.1992\n",
            "\ttrees: 21, Out-of-bag evaluation: rmse:1.19957\n",
            "\ttrees: 31, Out-of-bag evaluation: rmse:1.19951\n",
            "\ttrees: 41, Out-of-bag evaluation: rmse:1.19944\n",
            "\ttrees: 51, Out-of-bag evaluation: rmse:1.19948\n",
            "\ttrees: 61, Out-of-bag evaluation: rmse:1.1994\n",
            "\ttrees: 71, Out-of-bag evaluation: rmse:1.19936\n",
            "\ttrees: 81, Out-of-bag evaluation: rmse:1.19935\n",
            "\ttrees: 91, Out-of-bag evaluation: rmse:1.19938\n",
            "\ttrees: 101, Out-of-bag evaluation: rmse:1.19936\n",
            "\ttrees: 111, Out-of-bag evaluation: rmse:1.19934\n",
            "\ttrees: 121, Out-of-bag evaluation: rmse:1.19932\n",
            "\ttrees: 131, Out-of-bag evaluation: rmse:1.19931\n",
            "\ttrees: 141, Out-of-bag evaluation: rmse:1.1993\n",
            "\ttrees: 151, Out-of-bag evaluation: rmse:1.19932\n",
            "\ttrees: 161, Out-of-bag evaluation: rmse:1.19932\n",
            "\ttrees: 171, Out-of-bag evaluation: rmse:1.19933\n",
            "\ttrees: 181, Out-of-bag evaluation: rmse:1.19933\n",
            "\ttrees: 191, Out-of-bag evaluation: rmse:1.19935\n",
            "\ttrees: 201, Out-of-bag evaluation: rmse:1.19935\n",
            "\ttrees: 211, Out-of-bag evaluation: rmse:1.19935\n",
            "\ttrees: 221, Out-of-bag evaluation: rmse:1.19936\n",
            "\ttrees: 231, Out-of-bag evaluation: rmse:1.19934\n",
            "\ttrees: 241, Out-of-bag evaluation: rmse:1.19934\n",
            "\ttrees: 251, Out-of-bag evaluation: rmse:1.19934\n",
            "\ttrees: 261, Out-of-bag evaluation: rmse:1.19934\n",
            "\ttrees: 271, Out-of-bag evaluation: rmse:1.19934\n",
            "\ttrees: 281, Out-of-bag evaluation: rmse:1.19933\n",
            "\ttrees: 291, Out-of-bag evaluation: rmse:1.19932\n",
            "\ttrees: 300, Out-of-bag evaluation: rmse:1.19932\n",
            "\n"
          ]
        }
      ],
      "source": [
        "# model summary\n",
        "\n",
        "rf_model.summary()"
      ]
    },
    {
      "cell_type": "markdown",
      "metadata": {
        "id": "kSdYoOAd5uiy"
      },
      "source": [
        "###Model Predict"
      ]
    },
    {
      "cell_type": "code",
      "execution_count": null,
      "metadata": {
        "colab": {
          "base_uri": "https://localhost:8080/"
        },
        "id": "l3qkicoQ7Fi6",
        "outputId": "e13d17a7-68a1-4f22-84dc-386dd77020f0"
      },
      "outputs": [
        {
          "output_type": "stream",
          "name": "stdout",
          "text": [
            "1/1 [==============================] - 0s 172ms/step\n",
            "\n",
            "Rekomendasi Kendaraan beserta Jumlah Emisi:\n",
            "\n",
            "   JenisKendaraan  JumlahEmisi\n",
            "0               4     0.063870\n",
            "1               3     0.093266\n",
            "2               6     0.137295\n",
            "3               2     0.140622\n",
            "4               5     0.269526\n",
            "5               8     0.393599\n",
            "6               7     0.411122\n",
            "7               1     1.712514\n"
          ]
        }
      ],
      "source": [
        "# Prediction on new dataframe\n",
        "\n",
        "# data yang akan diprediksi\n",
        "new_data = {'BahanBakar': [0, 0, 0, 0, 0, 0, 0, 0],\n",
        "             'JenisKendaraan': [1, 2, 3, 4, 5, 6, 7, 8]}\n",
        "\n",
        "# ubah ke format pandas\n",
        "new_data_df = pd.DataFrame(new_data)\n",
        "\n",
        "# ubah ke format tf data\n",
        "test_data = tfdf.keras.pd_dataframe_to_tf_dataset(new_data_df, task=task)\n",
        "\n",
        "# prediksi\n",
        "predictions = rf_model.predict(test_data)\n",
        "\n",
        "# Extract predictions and add them to the original DataFrame\n",
        "new_data_df['JumlahEmisi'] = predictions.squeeze()\n",
        "\n",
        "# Pilih kolom untuk prediksi ouput\n",
        "output_predictions = new_data_df[['JenisKendaraan', 'JumlahEmisi']].sort_values(by='JumlahEmisi')\n",
        "\n",
        "# Reset index agar urutan benar\n",
        "output_predictions.reset_index(drop=True, inplace=True)\n",
        "\n",
        "# Tampilkan output rekomendasi yang didapatkan dari hasil prediksi (Diurutkan dari yang paling kecil)\n",
        "print(\"\\nRekomendasi Kendaraan beserta Jumlah Emisi:\\n\")\n",
        "print(output_predictions)"
      ]
    },
    {
      "cell_type": "markdown",
      "metadata": {
        "id": "f8oBNmbM538G"
      },
      "source": [
        "###Save The Model"
      ]
    },
    {
      "cell_type": "code",
      "execution_count": null,
      "metadata": {
        "id": "wwv3G0fHnIqJ"
      },
      "outputs": [],
      "source": [
        "# TF-DF doesn't directly support saving models in HDF5 format ('.h5')\n",
        "# We can convert the TF-DF model to a TF SavedModel format\n",
        "\n",
        "\n",
        "# Export the Model with the TF.SavedModel format\n",
        "saved_model_path = \"/content/saved_model\"\n",
        "rf_model.save(saved_model_path)"
      ]
    },
    {
      "cell_type": "code",
      "source": [
        "# Load model (it loads as a generic keras model)\n",
        "\n",
        "loaded_model = tf.keras.models.load_model(saved_model_path)\n",
        "loaded_model"
      ],
      "metadata": {
        "colab": {
          "base_uri": "https://localhost:8080/"
        },
        "id": "l16mOd9QloQV",
        "outputId": "82af8fd6-0c8c-4f8d-ff27-844dfce91071"
      },
      "execution_count": null,
      "outputs": [
        {
          "output_type": "execute_result",
          "data": {
            "text/plain": [
              "<keras.src.saving.legacy.saved_model.load.RandomForestModel at 0x79c52e550c40>"
            ]
          },
          "metadata": {},
          "execution_count": 28
        }
      ]
    },
    {
      "cell_type": "code",
      "source": [
        "!zip -r saved_model.zip /content/saved_model"
      ],
      "metadata": {
        "colab": {
          "base_uri": "https://localhost:8080/"
        },
        "id": "Lm12EtLtpaN_",
        "outputId": "0d068603-5262-4649-b6f4-7ffcc09d53e2"
      },
      "execution_count": null,
      "outputs": [
        {
          "output_type": "stream",
          "name": "stdout",
          "text": [
            "  adding: content/saved_model/ (stored 0%)\n",
            "  adding: content/saved_model/keras_metadata.pb (deflated 68%)\n",
            "  adding: content/saved_model/saved_model.pb (deflated 83%)\n",
            "  adding: content/saved_model/assets/ (stored 0%)\n",
            "  adding: content/saved_model/assets/e1724443b33d4c4anodes-00000-of-00001 (deflated 52%)\n",
            "  adding: content/saved_model/assets/e1724443b33d4c4arandom_forest_header.pb (deflated 78%)\n",
            "  adding: content/saved_model/assets/e1724443b33d4c4aheader.pb (deflated 22%)\n",
            "  adding: content/saved_model/assets/e1724443b33d4c4adata_spec.pb (deflated 15%)\n",
            "  adding: content/saved_model/assets/e1724443b33d4c4adone (stored 0%)\n",
            "  adding: content/saved_model/variables/ (stored 0%)\n",
            "  adding: content/saved_model/variables/variables.index (deflated 46%)\n",
            "  adding: content/saved_model/variables/variables.data-00000-of-00001 (deflated 59%)\n",
            "  adding: content/saved_model/fingerprint.pb (stored 0%)\n"
          ]
        }
      ]
    },
    {
      "cell_type": "code",
      "source": [
        "# Ubah model turunan menjadi model Sequential\n",
        "\n",
        "# Asumsikan data input memiliki shape\n",
        "input_shape = (2,)\n",
        "\n",
        "# Buat model Sequential dari loaded model's layers\n",
        "sequential_model = tf.keras.Sequential(loaded_model.layers)\n",
        "\n",
        "# Build model with the specified input shape\n",
        "sequential_model.build(input_shape)\n",
        "\n",
        "# Create dummy input data\n",
        "dummy_input = np.zeros((1,) + input_shape)\n",
        "\n",
        "# Call the model on the dummy input to create weights\n",
        "_ = sequential_model(dummy_input)\n",
        "\n",
        "# Simpan model dalam format HDF5\n",
        "h5_model_path = \"/content/saved_model/model.h5\"\n",
        "sequential_model.save(h5_model_path)"
      ],
      "metadata": {
        "colab": {
          "base_uri": "https://localhost:8080/"
        },
        "id": "Hhqg-jw6KuZX",
        "outputId": "43cf9c75-4647-4c70-da7c-22538e8c64bf"
      },
      "execution_count": null,
      "outputs": [
        {
          "output_type": "stream",
          "name": "stderr",
          "text": [
            "/usr/local/lib/python3.10/dist-packages/keras/src/engine/training.py:3103: UserWarning: You are saving your model as an HDF5 file via `model.save()`. This file format is considered legacy. We recommend using instead the native Keras format, e.g. `model.save('my_model.keras')`.\n",
            "  saving_api.save_model(\n"
          ]
        }
      ]
    },
    {
      "cell_type": "code",
      "source": [
        "print(tf.version.VERSION)"
      ],
      "metadata": {
        "colab": {
          "base_uri": "https://localhost:8080/"
        },
        "id": "UzSI2-lIwlAy",
        "outputId": "9aa18bf6-49b3-4919-d5f0-f906155fa546"
      },
      "execution_count": null,
      "outputs": [
        {
          "output_type": "stream",
          "name": "stdout",
          "text": [
            "2.15.0\n"
          ]
        }
      ]
    }
  ],
  "metadata": {
    "colab": {
      "provenance": []
    },
    "kernelspec": {
      "display_name": "Python 3",
      "name": "python3"
    },
    "language_info": {
      "name": "python"
    }
  },
  "nbformat": 4,
  "nbformat_minor": 0
}